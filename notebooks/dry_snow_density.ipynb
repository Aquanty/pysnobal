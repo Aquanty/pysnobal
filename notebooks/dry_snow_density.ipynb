{
 "metadata": {
  "language_info": {
   "codemirror_mode": {
    "name": "ipython",
    "version": 3
   },
   "file_extension": ".py",
   "mimetype": "text/x-python",
   "name": "python",
   "nbconvert_exporter": "python",
   "pygments_lexer": "ipython3",
   "version": "3.6.9-final"
  },
  "orig_nbformat": 2,
  "kernelspec": {
   "name": "python_defaultSpec_1598562476191",
   "display_name": "Python 3.6.9 64-bit ('.venv': virtualenv)"
  }
 },
 "nbformat": 4,
 "nbformat_minor": 2,
 "cells": [
  {
   "cell_type": "markdown",
   "metadata": {},
   "source": [
    "# Dry snow density\n",
    "\n",
    "The dry snow density is utilized in 2 places to calculate the maximum amount of water that can be held in the snowpack. The first is in `SnowState.init_layers()` when a new snowpack is generated. The equation to determine the dry snow density (`pysnobal.core.snow.dry_snow_density`) is:\n",
    "\n",
    "```python\n",
    "(rho - sat * RHO_W0) / (1 - sat * RHO_W0 / RHO_ICE)\n",
    "```\n",
    "\n",
    "where `rho` is the snow density, `sat` is the liquid water content as volume ratio. This was based on equations in Colbeck 1978 and Davis et al, 1985. However, in `runoff` it uses a simpler equation\n",
    "\n",
    "```python\n",
    "(m_s - h2o_total) / z_s\n",
    "```\n",
    "\n",
    "The `h2o_total` can be greater than `h2o_max` or the maximum water content of the snowpack (`h2o_sat` > 1). Modifying the `runoff` to use the `dry_snow_density` changes the model results slightly. The main difference is the `h2o` of the snowpack and `swi` timing. However, the changes are fairly minimal and <1% for `h2o` and `swi`"
   ]
  },
  {
   "cell_type": "code",
   "execution_count": null,
   "metadata": {},
   "outputs": [],
   "source": [
    "import os\n",
    "from pathlib import Path\n",
    "\n",
    "import numpy as np\n",
    "import pandas as pd\n",
    "import matplotlib.pyplot as plt\n",
    "from inicheck.tools import MasterConfig, cast_all_variables, get_user_config\n",
    "\n",
    "import pysnobal\n",
    "from pysnobal.pysnobal import PySnobal\n",
    "from pysnobal.core.snow import dry_snow_density\n",
    "\n",
    "def nse(obs, model):\n",
    "    num = np.sum((model - obs)**2)\n",
    "    denom = np.sum((obs - np.mean(obs))**2)\n",
    "    return 1 - num/denom"
   ]
  },
  {
   "cell_type": "code",
   "execution_count": null,
   "metadata": {
    "tags": []
   },
   "outputs": [],
   "source": [
    "# Dry snow density from `dry_snow_density`\n",
    "h2o_vol = np.arange(0, 0.05, 0.0005)\n",
    "rho = np.arange(100, 600, 10)\n",
    "\n",
    "[RHO, H2O] = np.meshgrid(rho, h2o_vol)\n",
    "d_rho = dry_snow_density(RHO, H2O)\n",
    "\n",
    "\n",
    "plt.imshow(\n",
    "    RHO - d_rho,\n",
    "    extent=[np.min(rho), np.max(rho), np.min(h2o_vol), np.max(h2o_vol)],\n",
    "    aspect='auto')\n",
    "plt.title('Density minus dry snow density')\n",
    "plt.xlabel('Density')\n",
    "plt.ylabel('h2o_vol')\n",
    "plt.colorbar()\n"
   ]
  },
  {
   "cell_type": "code",
   "execution_count": null,
   "metadata": {
    "tags": []
   },
   "outputs": [],
   "source": [
    "# run for the 25 years against the original dry snow density model in runoff\n",
    "\n",
    "wys = range(1984, 2009)\n",
    "out_dir = '../pysnobal/tests/test_data_point/gold_csv/'\n",
    "config_file = os.path.join(out_dir, 'config.ini')\n",
    "\n",
    "master_config = os.path.join(Path(pysnobal.__file__).parent, 'pysnobal_core_config.ini')\n",
    "mcfg = MasterConfig(path=master_config)\n",
    "config = get_user_config(config_file, mcfg=mcfg)\n",
    "\n",
    "\n",
    "for wy in wys:\n",
    "    print(wy)\n",
    "\n",
    "    # Update the config\n",
    "    config.raw_cfg['time'].update({\n",
    "        'start_date': '10-01-{} 00:00'.format(wy-1),\n",
    "        'end_date': '09-30-{} 23:00'.format(wy)\n",
    "    })\n",
    "    config.raw_cfg['files'].update({\n",
    "        'input_csv': os.path.join('25year', 'wy{}.input.csv'.format(wy)),\n",
    "        'output_csv': os.path.join('25year', 'dry_snow.wy{}.output.csv'.format(wy))\n",
    "    })\n",
    "\n",
    "    config.apply_recipes()\n",
    "    config = cast_all_variables(config, config.mcfg)\n",
    "\n",
    "    # run with updated config\n",
    "    status = PySnobal(config).run()"
   ]
  },
  {
   "cell_type": "code",
   "execution_count": null,
   "metadata": {},
   "outputs": [],
   "source": [
    "# Sanity check that we're outputing the correct stuff\n",
    "df = None\n",
    "for idx,wy in enumerate(wys):\n",
    "\n",
    "    start_date = pd.to_datetime('10-01-{} 01:00'.format(wy-1))\n",
    "    end_date = pd.to_datetime('09-30-{} 23:00'.format(wy))\n",
    "    \n",
    "    file_name = os.path.join(out_dir, '25year', 'wy{}.output.csv'.format(wy))\n",
    "    gold = pd.read_csv(file_name, index_col='date_time', parse_dates=True)\n",
    "\n",
    "    file_name = os.path.join(out_dir, '25year', 'dry_snow.wy{}.output.csv'.format(wy))\n",
    "    new = pd.read_csv(file_name, index_col='date_time', parse_dates=True)\n",
    "\n",
    "    d = gold - new\n",
    "    dd = d.describe()\n",
    "\n",
    "    for col in gold.columns:\n",
    "        dd.loc['NSE', col] = nse(new[col], gold[col])\n",
    "\n",
    "    dd['water_year'] = wy\n",
    "    dd.reset_index(inplace=True)\n",
    "    dd.rename(columns={'index': 'metric'}, inplace=True)\n",
    "\n",
    "    if df is None:\n",
    "        df = dd\n",
    "    else:\n",
    "        df = pd.concat([df, dd])\n",
    "\n",
    "    \n",
    "df"
   ]
  },
  {
   "cell_type": "code",
   "execution_count": null,
   "metadata": {},
   "outputs": [],
   "source": [
    "df.reset_index(inplace=True)\n",
    "df.set_index(['metric', 'water_year'], inplace=True)\n",
    "if 'index' in df.columns:\n",
    "    df.drop(columns='index', inplace=True)\n",
    "\n",
    "fig, ax = plt.subplots(5, 5, figsize=(25, 25))\n",
    "ax = ax.flatten()\n",
    "\n",
    "for idx, col in enumerate(df.columns):\n",
    "    df2 = df.loc[['min', '25%', '50%', '75%', 'max'], col]\n",
    "    df2.index.rename([col, 'water_year'], inplace=True)\n",
    "    df2.unstack(level=0).plot(ax=ax[idx])\n",
    "\n",
    "plt.savefig('figures/dry_snow_density.png')\n"
   ]
  }
 ]
}