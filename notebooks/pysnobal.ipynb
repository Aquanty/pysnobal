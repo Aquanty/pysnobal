{
 "metadata": {
  "language_info": {
   "codemirror_mode": {
    "name": "ipython",
    "version": 3
   },
   "file_extension": ".py",
   "mimetype": "text/x-python",
   "name": "python",
   "nbconvert_exporter": "python",
   "pygments_lexer": "ipython3",
   "version": 3
  },
  "orig_nbformat": 2,
  "kernelspec": {
   "name": "python_defaultSpec_1595457509337",
   "display_name": "Python 3.8.3 64-bit"
  }
 },
 "nbformat": 4,
 "nbformat_minor": 2,
 "cells": [
  {
   "cell_type": "code",
   "execution_count": null,
   "metadata": {},
   "outputs": [],
   "source": [
    "import numpy as np\n",
    "import pandas as pd\n",
    "import matplotlib.pyplot as plt\n",
    "\n",
    "from pysnobal.pysnobal import PySnobal"
   ]
  },
  {
   "cell_type": "code",
   "execution_count": null,
   "metadata": {
    "tags": []
   },
   "outputs": [],
   "source": [
    "# run PySnobal\n",
    "status = PySnobal('../pysnobal/tests/pysnobal_config.ini').run()\n",
    "\n",
    "# load in the outputs\n",
    "gold = pd.read_csv(\n",
    "    '../pysnobal/tests/test_data_point/gold_csv/gold.snobal.out.csv',\n",
    "    index_col='date_time', parse_dates=True)\n",
    "gold.index = gold.index.tz_localize('MST')\n",
    "\n",
    "new = pd.read_csv(\n",
    "    '../pysnobal/tests/output/pysnobal_output.csv',\n",
    "    index_col='date_time', parse_dates=True)"
   ]
  },
  {
   "cell_type": "code",
   "execution_count": null,
   "metadata": {},
   "outputs": [],
   "source": [
    "plt.plot(new.index, new['m_s'])\n",
    "plt.plot(gold.index, gold['m_s'])\n"
   ]
  },
  {
   "cell_type": "code",
   "execution_count": null,
   "metadata": {},
   "outputs": [],
   "source": [
    "d = gold['m_s'] - new['m_s']\n",
    "plt.plot(d)"
   ]
  }
 ]
}