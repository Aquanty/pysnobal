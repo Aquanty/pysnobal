{
 "metadata": {
  "language_info": {
   "codemirror_mode": {
    "name": "ipython",
    "version": 3
   },
   "file_extension": ".py",
   "mimetype": "text/x-python",
   "name": "python",
   "nbconvert_exporter": "python",
   "pygments_lexer": "ipython3",
   "version": 3
  },
  "orig_nbformat": 2,
  "kernelspec": {
   "name": "python_defaultSpec_1595625735434",
   "display_name": "Python 3.8.3 64-bit"
  }
 },
 "nbformat": 4,
 "nbformat_minor": 2,
 "cells": [
  {
   "cell_type": "markdown",
   "metadata": {},
   "source": [
    "# Turbulent Transfer\n",
    "\n",
    "Setup the gold files for turblent transfer through a random number generation. Run both the IPW `trbxfr` which implments the `hle1` calculation and the python `libsnobal.hle1`."
   ]
  },
  {
   "cell_type": "code",
   "execution_count": null,
   "metadata": {},
   "outputs": [],
   "source": [
    "import pandas as pd\n",
    "import numpy as np\n",
    "import subprocess as sp\n",
    "import os\n",
    "\n",
    "from pysnobal import libsnobal\n",
    "from pysnobal.constants import FREEZE\n",
    "\n",
    "def calculate_hle1(inputs):\n",
    "\n",
    "    P_a = libsnobal.hysat(\n",
    "        libsnobal.SEA_LEVEL,\n",
    "        libsnobal.STD_AIRTMP,\n",
    "        libsnobal.STD_LAPSE,\n",
    "        inputs['elevation'] / 1000.0,\n",
    "        libsnobal.GRAVITY,\n",
    "        libsnobal.MOL_AIR)\n",
    "\n",
    "    H, L_v_E, E, status = libsnobal.hle1(\n",
    "        P_a,\n",
    "        inputs['ta'],\n",
    "        inputs['ts'],\n",
    "        inputs['za'],\n",
    "        inputs['ea'],\n",
    "        inputs['es'],\n",
    "        inputs['za'],\n",
    "        inputs['u'],\n",
    "        inputs['zu'],\n",
    "        inputs['z0']\n",
    "    )\n",
    "\n",
    "    return H, L_v_E, E, status"
   ]
  },
  {
   "cell_type": "code",
   "execution_count": null,
   "metadata": {},
   "outputs": [],
   "source": [
    "# Generate random inputs\n",
    "nvalues = 100\n",
    "\n",
    "df = pd.DataFrame(columns=['elevation', 'ta', 'ts', 'za',\n",
    "                           'ea', 'es', 'u', 'zu', 'z0'])\n",
    "\n",
    "df['elevation'] = np.random.randint(100, 4000, nvalues)\n",
    "df['ta'] = np.random.randint(-40, 40, nvalues) + FREEZE\n",
    "df['ts'] = np.random.randint(-40, 0, nvalues) + FREEZE\n",
    "df['za'] = np.random.randint(2, 5, nvalues)\n",
    "\n",
    "df['ea'] = np.random.randint(40, 7000, nvalues)\n",
    "sat_vp = libsnobal.sati_np(df['ta'])\n",
    "df.loc[df.ea > sat_vp, 'ea'] = sat_vp[df.ea > sat_vp]\n",
    "df['es'] = libsnobal.sati_np(df['ts'])\n",
    "\n",
    "df['u'] = np.random.randint(1, 40, nvalues)\n",
    "df['zu'] = np.random.randint(3, 5, nvalues)\n",
    "df['z0'] = np.random.randint(5, 100, nvalues)/1000\n"
   ]
  },
  {
   "cell_type": "code",
   "execution_count": null,
   "metadata": {
    "tags": []
   },
   "outputs": [],
   "source": [
    "# Run the pysnobal hle1\n",
    "\n",
    "for index, row in df.iterrows():\n",
    "    H, L_v_E, E, status = calculate_hle1(row.to_dict())\n",
    "\n",
    "    df.loc[index, 'py_H'] = H\n",
    "    df.loc[index, 'py_L_v_E'] = L_v_E\n",
    "    df.loc[index, 'py_E'] = E\n",
    "    df.loc[index, 'py_status'] = status\n",
    "\n",
    "df\n",
    "    "
   ]
  },
  {
   "cell_type": "code",
   "execution_count": null,
   "metadata": {
    "tags": []
   },
   "outputs": [],
   "source": [
    "# Run trbxfr from IPW to ensure it's close\n",
    "\n",
    "cmd_str = 'echo \"{} {} {} {} {} {} {} {}\" | trbxfr -z {} -d -m'\n",
    "\n",
    "for index, row in df.iterrows():\n",
    "\n",
    "    cmd = cmd_str.format(\n",
    "        row['zu'],\n",
    "        row['za'],\n",
    "        row['z0'],\n",
    "        row['ta'],\n",
    "        row['ts'],\n",
    "        row['ea'],\n",
    "        row['es'],\n",
    "        row['u'],\n",
    "        row['elevation']\n",
    "    )\n",
    "    print(cmd)\n",
    "    print(os.environ['PATH'])\n",
    "    out = sp.check_output(cmd, shell=True, universal_newlines=True)\n",
    "\n",
    "    print(out)\n",
    "    break\n",
    "\n",
    "    R = np.ndarray((6, 1))\n",
    "    for i, m in enumerate(c):\n",
    "        R[i] = float(m.rstrip().split(' ')[-1])"
   ]
  }
 ]
}