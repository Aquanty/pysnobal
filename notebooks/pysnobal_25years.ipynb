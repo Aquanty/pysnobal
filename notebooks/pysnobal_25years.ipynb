{
 "metadata": {
  "language_info": {
   "codemirror_mode": {
    "name": "ipython",
    "version": 3
   },
   "file_extension": ".py",
   "mimetype": "text/x-python",
   "name": "python",
   "nbconvert_exporter": "python",
   "pygments_lexer": "ipython3",
   "version": 3
  },
  "orig_nbformat": 2,
  "kernelspec": {
   "name": "python_defaultSpec_1596140978891",
   "display_name": "Python 3.8.3 64-bit"
  }
 },
 "nbformat": 4,
 "nbformat_minor": 2,
 "cells": [
  {
   "cell_type": "markdown",
   "metadata": {},
   "source": [
    "# PySnobal 25 year comparison\n",
    "\n",
    "Aim to run a longer time series to evaluate PySnobal against the original Snobal."
   ]
  },
  {
   "cell_type": "code",
   "execution_count": null,
   "metadata": {},
   "outputs": [],
   "source": [
    "import os\n",
    "from pathlib import Path\n",
    "\n",
    "import numpy as np\n",
    "import pandas as pd\n",
    "import matplotlib.pyplot as plt\n",
    "from inicheck.tools import MasterConfig, cast_all_variables, get_user_config\n",
    "\n",
    "import pysnobal\n",
    "from pysnobal.pysnobal import PySnobal\n",
    "\n",
    "def nse(obs, model):\n",
    "    num = np.sum((model - obs)**2)\n",
    "    denom = np.sum((obs - np.mean(obs))**2)\n",
    "    return 1 - num/denom"
   ]
  },
  {
   "cell_type": "code",
   "execution_count": null,
   "metadata": {
    "tags": []
   },
   "outputs": [],
   "source": [
    "# Load the historic data and split it up into years\n",
    "\n",
    "out_dir = '../pysnobal/tests/test_data_point/gold_csv/'\n",
    "\n",
    "data = pd.read_csv(\n",
    "    os.path.join(out_dir, 'gold.snobal.data.input.csv'),\n",
    "    index_col='date_time', parse_dates=True)\n",
    "\n",
    "# split into water years\n",
    "wys = data.index.year.unique()[1:]"
   ]
  },
  {
   "cell_type": "code",
   "execution_count": null,
   "metadata": {},
   "outputs": [],
   "source": [
    "# Output to individual files\n",
    "for wy in wys:\n",
    "    start_date = pd.to_datetime('10-01-{} 00:00'.format(wy-1))\n",
    "    end_date = pd.to_datetime('09-30-{} 23:00'.format(wy))\n",
    "\n",
    "    wy_data = data.loc[start_date:end_date, :]\n",
    "\n",
    "    wy_data.to_csv(os.path.join(out_dir, '25year', 'wy{}.input.csv'.format(wy)))"
   ]
  },
  {
   "cell_type": "code",
   "execution_count": null,
   "metadata": {
    "tags": []
   },
   "outputs": [],
   "source": [
    "# run PySnobal\n",
    "config_file = os.path.join(out_dir, 'config.ini')\n",
    "\n",
    "master_config = os.path.join(Path(pysnobal.__file__).parent, 'pysnobal_core_config.ini')\n",
    "mcfg = MasterConfig(path=master_config)\n",
    "config = get_user_config(config_file, mcfg=mcfg)\n",
    "\n",
    "\n",
    "for wy in wys:\n",
    "    print(wy)\n",
    "\n",
    "    # Update the config\n",
    "    config.raw_cfg['time'].update({\n",
    "        'start_date': '10-01-{} 00:00'.format(wy-1),\n",
    "        'end_date': '09-30-{} 23:00'.format(wy)\n",
    "    })\n",
    "    config.raw_cfg['files'].update({\n",
    "        'input_csv': os.path.join('25year', 'wy{}.input.csv'.format(wy)),\n",
    "        'output_csv': os.path.join('25year', 'wy{}.output.csv'.format(wy))\n",
    "    })\n",
    "\n",
    "    config.apply_recipes()\n",
    "    config = cast_all_variables(config, config.mcfg)\n",
    "\n",
    "    # run with updated config\n",
    "    status = PySnobal(config).run()"
   ]
  },
  {
   "cell_type": "code",
   "execution_count": null,
   "metadata": {},
   "outputs": [],
   "source": [
    "# read in the Snobal runs\n",
    "file_name = '../pysnobal/tests/test_data_point/gold_ipw/gold.snobal.out.25year'\n",
    "output_label = np.array(['time_s','R_n','H','L_v_E','G','M','delta_Q','G_0','delta_Q_0',\n",
    "            'cc_s_0','cc_s_l','cc_s','E_s','melt','ro_predict','z_s_0','z_s_l',\n",
    "            'z_s','rho','m_s_0','m_s_l','m_s','h2o','T_s_0','T_s_l','T_s'])\n",
    "\n",
    "snobal = pd.read_csv(\n",
    "    file_name,\n",
    "    delimiter=\" \", names=output_label)\n",
    "start_date = pd.to_datetime('10-01-1983 00:00')\n",
    "tdelta = pd.to_timedelta(snobal.time_s, unit='hour')\n",
    "snobal['date_time'] = start_date + tdelta\n",
    "snobal['date_time'] = snobal['date_time'].dt.round('min') # Snobal uses decimals for minutes but pandas will convert with microseconds\n",
    "snobal.set_index('date_time', inplace=True)\n",
    "snobal.index = snobal.index.tz_localize('MST')\n",
    "snobal.drop('time_s', axis=1, inplace=True)\n"
   ]
  },
  {
   "cell_type": "code",
   "execution_count": null,
   "metadata": {},
   "outputs": [],
   "source": [
    "# difference between the models\n",
    "\n",
    "df = None\n",
    "for idx,wy in enumerate(wys):\n",
    "\n",
    "    start_date = pd.to_datetime('10-01-{} 01:00'.format(wy-1))\n",
    "    end_date = pd.to_datetime('09-30-{} 23:00'.format(wy))\n",
    "    gold = snobal.loc[start_date:end_date, :]\n",
    "\n",
    "    file_name = os.path.join(out_dir, '25year', 'wy{}.output.csv'.format(wy))\n",
    "    new = pd.read_csv(file_name, index_col='date_time', parse_dates=True)\n",
    "\n",
    "    d = gold - new\n",
    "    dd = d.describe()\n",
    "\n",
    "    for col in gold.columns:\n",
    "        dd.loc['NSE', col] = nse(new[col], gold[col])\n",
    "\n",
    "    dd['water_year'] = wy\n",
    "    dd.reset_index(inplace=True)\n",
    "    dd.rename(columns={'index': 'metric'}, inplace=True)\n",
    "\n",
    "    if df is None:\n",
    "        df = dd\n",
    "    else:\n",
    "        df = pd.concat([df, dd])\n",
    "    "
   ]
  },
  {
   "cell_type": "code",
   "execution_count": null,
   "metadata": {},
   "outputs": [],
   "source": [
    "df.set_index(['water_year', 'metric'], inplace=True)\n",
    "\n",
    "df"
   ]
  },
  {
   "cell_type": "code",
   "execution_count": null,
   "metadata": {},
   "outputs": [],
   "source": [
    "# look at the differences between the models\n",
    "variable = 'm_s'\n",
    "\n",
    "fig, ax = plt.subplots(len(wys), 1, figsize=(15, 5*len(wys)))\n",
    "\n",
    "for idx,wy in enumerate(wys):\n",
    "\n",
    "    start_date = pd.to_datetime('10-01-{} 01:00'.format(wy-1))\n",
    "    end_date = pd.to_datetime('09-30-{} 23:00'.format(wy))\n",
    "    gold = snobal.loc[start_date:end_date, :]\n",
    "\n",
    "    file_name = os.path.join(out_dir, '25year', 'wy{}.output.csv'.format(wy))\n",
    "    new = pd.read_csv(file_name, index_col='date_time', parse_dates=True)\n",
    "\n",
    "    par1 = ax[idx].twinx()\n",
    "    d = gold[variable] - new[variable]\n",
    "    par1.plot(new.index, np.zeros_like(new.index), 'k--')\n",
    "    par1.plot(d.index, d, 'k')\n",
    "\n",
    "    ax[idx].plot(new.index, new[variable], '-')\n",
    "    ax[idx].plot(gold.index, gold[variable], '-')\n",
    "    ax[idx].set_title(wy)\n",
    "    ax[idx].legend(['pysnobal', 'snobal'])\n",
    "\n"
   ]
  }
 ]
}